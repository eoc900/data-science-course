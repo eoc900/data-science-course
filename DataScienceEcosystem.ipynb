{
 "cells": [
  {
   "cell_type": "markdown",
   "id": "25aadd75",
   "metadata": {},
   "source": [
    "# Data Science Tools and Ecosystem"
   ]
  },
  {
   "cell_type": "markdown",
   "id": "6683692e",
   "metadata": {},
   "source": [
    "### **In this notebook, Data Science Tools and Ecosystem are summarized.**"
   ]
  },
  {
   "cell_type": "markdown",
   "id": "53d630fc",
   "metadata": {},
   "source": [
    "##### some popular languages that some data scientist use are:\n",
    "\n",
    "    1. Python\n",
    "    2. R\n",
    "    3. Javascript\n",
    "    4. Java\n",
    "    5. Sql\n",
    "    6. Php\n",
    "    "
   ]
  },
  {
   "cell_type": "markdown",
   "id": "e0fd7679",
   "metadata": {},
   "source": [
    "##### Some of the commonly used libraries used by Data Scientists include:\n",
    "    \n",
    "    1. Numpy\n",
    "    2. SciPy\n",
    "    3. Ggplot\n",
    "    4. Pandas\n",
    "    5. Mathplotlib\n",
    "    6. Plotly\n",
    "    7. Keras"
   ]
  },
  {
   "cell_type": "code",
   "execution_count": null,
   "id": "2e606306",
   "metadata": {},
   "outputs": [],
   "source": [
    "##### Data Science Tools:\n",
    "\n",
    "|  | Open Source IDEs |\n",
    "|---|------------------|\n",
    "|1 | JupiterLab.      |\n",
    "|2 | Spyder           |\n",
    "|3 | Google colab.    |"
   ]
  },
  {
   "cell_type": "markdown",
   "id": "a2072a17",
   "metadata": {},
   "source": [
    "### Below are a few examples of evaluating arithmetic expressions in Python:"
   ]
  },
  {
   "cell_type": "markdown",
   "id": "95e598fb",
   "metadata": {},
   "source": [
    "This a simple arithmetic expression to mutiply then add integers"
   ]
  },
  {
   "cell_type": "code",
   "execution_count": 2,
   "id": "9e1dd7b8",
   "metadata": {},
   "outputs": [
    {
     "data": {
      "text/plain": [
       "17"
      ]
     },
     "execution_count": 2,
     "metadata": {},
     "output_type": "execute_result"
    }
   ],
   "source": [
    "(3*4)+5"
   ]
  },
  {
   "cell_type": "markdown",
   "id": "4f3cb7e6",
   "metadata": {},
   "source": [
    "This will convert 200 minutes to hours by diving by 60"
   ]
  },
  {
   "cell_type": "code",
   "execution_count": 3,
   "id": "bade8b51",
   "metadata": {},
   "outputs": [
    {
     "name": "stdout",
     "output_type": "stream",
     "text": [
      "3.3333333333333335\n"
     ]
    }
   ],
   "source": [
    "minutes = 200/60\n",
    "print(minutes)"
   ]
  },
  {
   "cell_type": "markdown",
   "id": "994fd54c",
   "metadata": {},
   "source": [
    "** Objectives **\n",
    "\n",
    "    - List popular languages used in data science\n",
    "    - List open source integrated development environments\n",
    "    - List commonly used libraries \n",
    "    - Evaluate aritmethic expressions\n",
    "    - Review markdown\n",
    "    "
   ]
  },
  {
   "cell_type": "markdown",
   "id": "146b15b0",
   "metadata": {},
   "source": [
    "## Author\n",
    "Eugenio Ortiz"
   ]
  }
 ],
 "metadata": {
  "kernelspec": {
   "display_name": "Python 3 (ipykernel)",
   "language": "python",
   "name": "python3"
  },
  "language_info": {
   "codemirror_mode": {
    "name": "ipython",
    "version": 3
   },
   "file_extension": ".py",
   "mimetype": "text/x-python",
   "name": "python",
   "nbconvert_exporter": "python",
   "pygments_lexer": "ipython3",
   "version": "3.10.9"
  }
 },
 "nbformat": 4,
 "nbformat_minor": 5
}
